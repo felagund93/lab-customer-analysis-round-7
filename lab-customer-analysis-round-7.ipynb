{
 "cells": [
  {
   "cell_type": "markdown",
   "id": "b4d64333",
   "metadata": {},
   "source": [
    "# Lab | Customer Analysis Round 7\n",
    "\n",
    "For this lab, we still keep using the `marketing_customer_analysis.csv` file that you can find in the `files_for_lab` folder.\n",
    "\n",
    "Remember the previous rounds. Follow the steps as shown in previous lectures and try to improve the accuracy of the model. Include both categorical columns in the exercise.\n",
    "Some approaches you can try in this exercise:\n",
    "\n",
    "- use the concept of multicollinearity and remove insignificant variables\n",
    "- use a different method of scaling the numerical variables\n",
    "- use a different ratio of train test split\n",
    "- use the transformation on numerical columns which align it more towards a normal distribution\n",
    "\n",
    "### Get the data\n",
    "\n",
    "We are using the `marketing_customer_analysis.csv` file.\n",
    "\n",
    "### Dealing with the data\n",
    "\n",
    "Already done in rounds 2 to 7.\n",
    "\n",
    "**Bonus**: Build a function, from round 2 and round 7, to clean and process the data.\n",
    "\n",
    "### Explore the data\n",
    "\n",
    "Done in the round 3.\n",
    "\n",
    "### Modeling\n",
    "\n",
    "Description:\n",
    "\n",
    "- Try to improve the linear regression model."
   ]
  },
  {
   "cell_type": "code",
   "execution_count": 1,
   "id": "7e291bc4",
   "metadata": {},
   "outputs": [],
   "source": [
    "import pandas as pd\n",
    "import numpy as np\n",
    "import matplotlib.pyplot as plt\n",
    "import seaborn as sns\n",
    "import scipy.stats as stats\n",
    "\n",
    "from sklearn.preprocessing import OneHotEncoder, StandardScaler, MinMaxScaler, Normalizer\n",
    "from sklearn.model_selection import train_test_split\n",
    "from sklearn.linear_model import LinearRegression\n",
    "from sklearn.metrics import r2_score, mean_squared_error, mean_absolute_error"
   ]
  },
  {
   "cell_type": "markdown",
   "id": "8e655c44",
   "metadata": {},
   "source": [
    "# Get the data"
   ]
  },
  {
   "cell_type": "code",
   "execution_count": 2,
   "id": "389f44db",
   "metadata": {},
   "outputs": [
    {
     "data": {
      "text/html": [
       "<div>\n",
       "<style scoped>\n",
       "    .dataframe tbody tr th:only-of-type {\n",
       "        vertical-align: middle;\n",
       "    }\n",
       "\n",
       "    .dataframe tbody tr th {\n",
       "        vertical-align: top;\n",
       "    }\n",
       "\n",
       "    .dataframe thead th {\n",
       "        text-align: right;\n",
       "    }\n",
       "</style>\n",
       "<table border=\"1\" class=\"dataframe\">\n",
       "  <thead>\n",
       "    <tr style=\"text-align: right;\">\n",
       "      <th></th>\n",
       "      <th>Customer</th>\n",
       "      <th>State</th>\n",
       "      <th>Customer Lifetime Value</th>\n",
       "      <th>Response</th>\n",
       "      <th>Coverage</th>\n",
       "      <th>Education</th>\n",
       "      <th>Effective To Date</th>\n",
       "      <th>EmploymentStatus</th>\n",
       "      <th>Gender</th>\n",
       "      <th>Income</th>\n",
       "      <th>...</th>\n",
       "      <th>Months Since Policy Inception</th>\n",
       "      <th>Number of Open Complaints</th>\n",
       "      <th>Number of Policies</th>\n",
       "      <th>Policy Type</th>\n",
       "      <th>Policy</th>\n",
       "      <th>Renew Offer Type</th>\n",
       "      <th>Sales Channel</th>\n",
       "      <th>Total Claim Amount</th>\n",
       "      <th>Vehicle Class</th>\n",
       "      <th>Vehicle Size</th>\n",
       "    </tr>\n",
       "  </thead>\n",
       "  <tbody>\n",
       "    <tr>\n",
       "      <th>0</th>\n",
       "      <td>BU79786</td>\n",
       "      <td>Washington</td>\n",
       "      <td>2763.519279</td>\n",
       "      <td>No</td>\n",
       "      <td>Basic</td>\n",
       "      <td>Bachelor</td>\n",
       "      <td>2/24/11</td>\n",
       "      <td>Employed</td>\n",
       "      <td>F</td>\n",
       "      <td>56274</td>\n",
       "      <td>...</td>\n",
       "      <td>5</td>\n",
       "      <td>0</td>\n",
       "      <td>1</td>\n",
       "      <td>Corporate Auto</td>\n",
       "      <td>Corporate L3</td>\n",
       "      <td>Offer1</td>\n",
       "      <td>Agent</td>\n",
       "      <td>384.811147</td>\n",
       "      <td>Two-Door Car</td>\n",
       "      <td>Medsize</td>\n",
       "    </tr>\n",
       "    <tr>\n",
       "      <th>1</th>\n",
       "      <td>QZ44356</td>\n",
       "      <td>Arizona</td>\n",
       "      <td>6979.535903</td>\n",
       "      <td>No</td>\n",
       "      <td>Extended</td>\n",
       "      <td>Bachelor</td>\n",
       "      <td>1/31/11</td>\n",
       "      <td>Unemployed</td>\n",
       "      <td>F</td>\n",
       "      <td>0</td>\n",
       "      <td>...</td>\n",
       "      <td>42</td>\n",
       "      <td>0</td>\n",
       "      <td>8</td>\n",
       "      <td>Personal Auto</td>\n",
       "      <td>Personal L3</td>\n",
       "      <td>Offer3</td>\n",
       "      <td>Agent</td>\n",
       "      <td>1131.464935</td>\n",
       "      <td>Four-Door Car</td>\n",
       "      <td>Medsize</td>\n",
       "    </tr>\n",
       "    <tr>\n",
       "      <th>2</th>\n",
       "      <td>AI49188</td>\n",
       "      <td>Nevada</td>\n",
       "      <td>12887.431650</td>\n",
       "      <td>No</td>\n",
       "      <td>Premium</td>\n",
       "      <td>Bachelor</td>\n",
       "      <td>2/19/11</td>\n",
       "      <td>Employed</td>\n",
       "      <td>F</td>\n",
       "      <td>48767</td>\n",
       "      <td>...</td>\n",
       "      <td>38</td>\n",
       "      <td>0</td>\n",
       "      <td>2</td>\n",
       "      <td>Personal Auto</td>\n",
       "      <td>Personal L3</td>\n",
       "      <td>Offer1</td>\n",
       "      <td>Agent</td>\n",
       "      <td>566.472247</td>\n",
       "      <td>Two-Door Car</td>\n",
       "      <td>Medsize</td>\n",
       "    </tr>\n",
       "    <tr>\n",
       "      <th>3</th>\n",
       "      <td>WW63253</td>\n",
       "      <td>California</td>\n",
       "      <td>7645.861827</td>\n",
       "      <td>No</td>\n",
       "      <td>Basic</td>\n",
       "      <td>Bachelor</td>\n",
       "      <td>1/20/11</td>\n",
       "      <td>Unemployed</td>\n",
       "      <td>M</td>\n",
       "      <td>0</td>\n",
       "      <td>...</td>\n",
       "      <td>65</td>\n",
       "      <td>0</td>\n",
       "      <td>7</td>\n",
       "      <td>Corporate Auto</td>\n",
       "      <td>Corporate L2</td>\n",
       "      <td>Offer1</td>\n",
       "      <td>Call Center</td>\n",
       "      <td>529.881344</td>\n",
       "      <td>SUV</td>\n",
       "      <td>Medsize</td>\n",
       "    </tr>\n",
       "    <tr>\n",
       "      <th>4</th>\n",
       "      <td>HB64268</td>\n",
       "      <td>Washington</td>\n",
       "      <td>2813.692575</td>\n",
       "      <td>No</td>\n",
       "      <td>Basic</td>\n",
       "      <td>Bachelor</td>\n",
       "      <td>2/3/11</td>\n",
       "      <td>Employed</td>\n",
       "      <td>M</td>\n",
       "      <td>43836</td>\n",
       "      <td>...</td>\n",
       "      <td>44</td>\n",
       "      <td>0</td>\n",
       "      <td>1</td>\n",
       "      <td>Personal Auto</td>\n",
       "      <td>Personal L1</td>\n",
       "      <td>Offer1</td>\n",
       "      <td>Agent</td>\n",
       "      <td>138.130879</td>\n",
       "      <td>Four-Door Car</td>\n",
       "      <td>Medsize</td>\n",
       "    </tr>\n",
       "  </tbody>\n",
       "</table>\n",
       "<p>5 rows × 24 columns</p>\n",
       "</div>"
      ],
      "text/plain": [
       "  Customer       State  Customer Lifetime Value Response  Coverage Education  \\\n",
       "0  BU79786  Washington              2763.519279       No     Basic  Bachelor   \n",
       "1  QZ44356     Arizona              6979.535903       No  Extended  Bachelor   \n",
       "2  AI49188      Nevada             12887.431650       No   Premium  Bachelor   \n",
       "3  WW63253  California              7645.861827       No     Basic  Bachelor   \n",
       "4  HB64268  Washington              2813.692575       No     Basic  Bachelor   \n",
       "\n",
       "  Effective To Date EmploymentStatus Gender  Income  ...  \\\n",
       "0           2/24/11         Employed      F   56274  ...   \n",
       "1           1/31/11       Unemployed      F       0  ...   \n",
       "2           2/19/11         Employed      F   48767  ...   \n",
       "3           1/20/11       Unemployed      M       0  ...   \n",
       "4            2/3/11         Employed      M   43836  ...   \n",
       "\n",
       "  Months Since Policy Inception Number of Open Complaints  Number of Policies  \\\n",
       "0                             5                         0                   1   \n",
       "1                            42                         0                   8   \n",
       "2                            38                         0                   2   \n",
       "3                            65                         0                   7   \n",
       "4                            44                         0                   1   \n",
       "\n",
       "      Policy Type        Policy  Renew Offer Type  Sales Channel  \\\n",
       "0  Corporate Auto  Corporate L3            Offer1          Agent   \n",
       "1   Personal Auto   Personal L3            Offer3          Agent   \n",
       "2   Personal Auto   Personal L3            Offer1          Agent   \n",
       "3  Corporate Auto  Corporate L2            Offer1    Call Center   \n",
       "4   Personal Auto   Personal L1            Offer1          Agent   \n",
       "\n",
       "  Total Claim Amount  Vehicle Class Vehicle Size  \n",
       "0         384.811147   Two-Door Car      Medsize  \n",
       "1        1131.464935  Four-Door Car      Medsize  \n",
       "2         566.472247   Two-Door Car      Medsize  \n",
       "3         529.881344            SUV      Medsize  \n",
       "4         138.130879  Four-Door Car      Medsize  \n",
       "\n",
       "[5 rows x 24 columns]"
      ]
     },
     "metadata": {},
     "output_type": "display_data"
    },
    {
     "name": "stdout",
     "output_type": "stream",
     "text": [
      "<class 'pandas.core.frame.DataFrame'>\n",
      "RangeIndex: 9134 entries, 0 to 9133\n",
      "Data columns (total 24 columns):\n",
      " #   Column                         Non-Null Count  Dtype  \n",
      "---  ------                         --------------  -----  \n",
      " 0   Customer                       9134 non-null   object \n",
      " 1   State                          9134 non-null   object \n",
      " 2   Customer Lifetime Value        9134 non-null   float64\n",
      " 3   Response                       9134 non-null   object \n",
      " 4   Coverage                       9134 non-null   object \n",
      " 5   Education                      9134 non-null   object \n",
      " 6   Effective To Date              9134 non-null   object \n",
      " 7   EmploymentStatus               9134 non-null   object \n",
      " 8   Gender                         9134 non-null   object \n",
      " 9   Income                         9134 non-null   int64  \n",
      " 10  Location Code                  9134 non-null   object \n",
      " 11  Marital Status                 9134 non-null   object \n",
      " 12  Monthly Premium Auto           9134 non-null   int64  \n",
      " 13  Months Since Last Claim        9134 non-null   int64  \n",
      " 14  Months Since Policy Inception  9134 non-null   int64  \n",
      " 15  Number of Open Complaints      9134 non-null   int64  \n",
      " 16  Number of Policies             9134 non-null   int64  \n",
      " 17  Policy Type                    9134 non-null   object \n",
      " 18  Policy                         9134 non-null   object \n",
      " 19  Renew Offer Type               9134 non-null   object \n",
      " 20  Sales Channel                  9134 non-null   object \n",
      " 21  Total Claim Amount             9134 non-null   float64\n",
      " 22  Vehicle Class                  9134 non-null   object \n",
      " 23  Vehicle Size                   9134 non-null   object \n",
      "dtypes: float64(2), int64(6), object(16)\n",
      "memory usage: 1.7+ MB\n"
     ]
    }
   ],
   "source": [
    "df = pd.read_csv('files_for_lab/csv_files/marketing_customer_analysis.csv')\n",
    "display(df.head())\n",
    "df.info()"
   ]
  },
  {
   "cell_type": "markdown",
   "id": "ea26c2b1",
   "metadata": {},
   "source": [
    "# Data Cleaning"
   ]
  },
  {
   "cell_type": "code",
   "execution_count": 3,
   "id": "c3563a26",
   "metadata": {},
   "outputs": [],
   "source": [
    "def col_names_std(df):\n",
    "    import pandas as pd\n",
    "    import numpy as np\n",
    "    df.columns = [df.columns[i].lower().replace(' ','_') for i in range(len(df.columns))]\n",
    "    return df\n",
    "\n",
    "df=col_names_std(df)\n",
    "\n",
    "import datetime\n",
    "from datetime import date\n",
    "\n",
    "df['effective_to_date'] = pd.to_datetime(df['effective_to_date'], errors='coerce')"
   ]
  },
  {
   "cell_type": "markdown",
   "id": "b88a8610",
   "metadata": {},
   "source": [
    "# EDA"
   ]
  },
  {
   "cell_type": "markdown",
   "id": "51c3e847",
   "metadata": {},
   "source": [
    "## Numerical features"
   ]
  },
  {
   "cell_type": "code",
   "execution_count": 4,
   "id": "c51c6421",
   "metadata": {},
   "outputs": [
    {
     "data": {
      "image/png": "[encoded data removed]",
      "text/plain": [
       "<Figure size 360x360 with 1 Axes>"
      ]
     },
     "metadata": {
      "needs_background": "light"
     },
     "output_type": "display_data"
    },
    {
     "data": {
      "image/png": "[encoded data removed]",
      "text/plain": [
       "<Figure size 360x360 with 1 Axes>"
      ]
     },
     "metadata": {
      "needs_background": "light"
     },
     "output_type": "display_data"
    },
    {
     "data": {
      "image/png": "[encoded data removed]",
      "text/plain": [
       "<Figure size 360x360 with 1 Axes>"
      ]
     },
     "metadata": {
      "needs_background": "light"
     },
     "output_type": "display_data"
    },
    {
     "data": {
      "image/png": "[encoded data removed]",
      "text/plain": [
       "<Figure size 360x360 with 1 Axes>"
      ]
     },
     "metadata": {
      "needs_background": "light"
     },
     "output_type": "display_data"
    },
    {
     "data": {
      "image/png": "[encoded data removed]",
      "text/plain": [
       "<Figure size 360x360 with 1 Axes>"
      ]
     },
     "metadata": {
      "needs_background": "light"
     },
     "output_type": "display_data"
    },
    {
     "data": {
      "image/png": "[encoded data removed]",
      "text/plain": [
       "<Figure size 360x360 with 1 Axes>"
      ]
     },
     "metadata": {
      "needs_background": "light"
     },
     "output_type": "display_data"
    },
    {
     "data": {
      "image/png": "[encoded data removed]",
      "text/plain": [
       "<Figure size 360x360 with 1 Axes>"
      ]
     },
     "metadata": {
      "needs_background": "light"
     },
     "output_type": "display_data"
    },
    {
     "data": {
      "image/png": "[encoded data removed]",
      "text/plain": [
       "<Figure size 360x360 with 1 Axes>"
      ]
     },
     "metadata": {
      "needs_background": "light"
     },
     "output_type": "display_data"
    }
   ],
   "source": [
    "numerical=df.select_dtypes(include='number')#.apply(lambda x: round(x,2)) # a lambda just to round it pretty\n",
    "#NOTE: I am excluding the boolean response\n",
    "#display(numerical)\n",
    "\n",
    "continuous=['customer_lifetime_value', 'income', 'monthly_premium_auto', \n",
    "            'months_since_last_claim', 'months_since_policy_inception', 'total_claim_amount']\n",
    "discrete=['number_of_open_complaints', 'number_of_policies']\n",
    "\n",
    "for column in numerical.columns:\n",
    "    if column in continuous:\n",
    "        sns.displot(numerical, x=column, bins=20)\n",
    "    else:\n",
    "        sns.displot(numerical, x=column, discrete=True)"
   ]
  },
  {
   "cell_type": "markdown",
   "id": "f156b2da",
   "metadata": {},
   "source": [
    "### Correlation matrices"
   ]
  },
  {
   "cell_type": "code",
   "execution_count": 5,
   "id": "24a7f6c9",
   "metadata": {},
   "outputs": [
    {
     "data": {
      "text/html": [
       "<div>\n",
       "<style scoped>\n",
       "    .dataframe tbody tr th:only-of-type {\n",
       "        vertical-align: middle;\n",
       "    }\n",
       "\n",
       "    .dataframe tbody tr th {\n",
       "        vertical-align: top;\n",
       "    }\n",
       "\n",
       "    .dataframe thead th {\n",
       "        text-align: right;\n",
       "    }\n",
       "</style>\n",
       "<table border=\"1\" class=\"dataframe\">\n",
       "  <thead>\n",
       "    <tr style=\"text-align: right;\">\n",
       "      <th></th>\n",
       "      <th>customer_lifetime_value</th>\n",
       "      <th>income</th>\n",
       "      <th>monthly_premium_auto</th>\n",
       "      <th>months_since_last_claim</th>\n",
       "      <th>months_since_policy_inception</th>\n",
       "      <th>number_of_open_complaints</th>\n",
       "      <th>number_of_policies</th>\n",
       "      <th>total_claim_amount</th>\n",
       "    </tr>\n",
       "  </thead>\n",
       "  <tbody>\n",
       "    <tr>\n",
       "      <th>customer_lifetime_value</th>\n",
       "      <td>1.000000</td>\n",
       "      <td>0.055395</td>\n",
       "      <td>0.453933</td>\n",
       "      <td>0.005126</td>\n",
       "      <td>-0.002429</td>\n",
       "      <td>-0.031312</td>\n",
       "      <td>0.488860</td>\n",
       "      <td>0.210598</td>\n",
       "    </tr>\n",
       "    <tr>\n",
       "      <th>income</th>\n",
       "      <td>0.055395</td>\n",
       "      <td>1.000000</td>\n",
       "      <td>-0.017608</td>\n",
       "      <td>-0.025784</td>\n",
       "      <td>-0.001945</td>\n",
       "      <td>0.006334</td>\n",
       "      <td>-0.010273</td>\n",
       "      <td>-0.401598</td>\n",
       "    </tr>\n",
       "    <tr>\n",
       "      <th>monthly_premium_auto</th>\n",
       "      <td>0.453933</td>\n",
       "      <td>-0.017608</td>\n",
       "      <td>1.000000</td>\n",
       "      <td>-0.005989</td>\n",
       "      <td>0.014596</td>\n",
       "      <td>-0.012751</td>\n",
       "      <td>-0.006936</td>\n",
       "      <td>0.522261</td>\n",
       "    </tr>\n",
       "    <tr>\n",
       "      <th>months_since_last_claim</th>\n",
       "      <td>0.005126</td>\n",
       "      <td>-0.025784</td>\n",
       "      <td>-0.005989</td>\n",
       "      <td>1.000000</td>\n",
       "      <td>-0.048269</td>\n",
       "      <td>0.005736</td>\n",
       "      <td>0.011439</td>\n",
       "      <td>-0.000782</td>\n",
       "    </tr>\n",
       "    <tr>\n",
       "      <th>months_since_policy_inception</th>\n",
       "      <td>-0.002429</td>\n",
       "      <td>-0.001945</td>\n",
       "      <td>0.014596</td>\n",
       "      <td>-0.048269</td>\n",
       "      <td>1.000000</td>\n",
       "      <td>-0.013233</td>\n",
       "      <td>-0.009546</td>\n",
       "      <td>-0.006569</td>\n",
       "    </tr>\n",
       "    <tr>\n",
       "      <th>number_of_open_complaints</th>\n",
       "      <td>-0.031312</td>\n",
       "      <td>0.006334</td>\n",
       "      <td>-0.012751</td>\n",
       "      <td>0.005736</td>\n",
       "      <td>-0.013233</td>\n",
       "      <td>1.000000</td>\n",
       "      <td>0.001523</td>\n",
       "      <td>-0.024694</td>\n",
       "    </tr>\n",
       "    <tr>\n",
       "      <th>number_of_policies</th>\n",
       "      <td>0.488860</td>\n",
       "      <td>-0.010273</td>\n",
       "      <td>-0.006936</td>\n",
       "      <td>0.011439</td>\n",
       "      <td>-0.009546</td>\n",
       "      <td>0.001523</td>\n",
       "      <td>1.000000</td>\n",
       "      <td>-0.011100</td>\n",
       "    </tr>\n",
       "    <tr>\n",
       "      <th>total_claim_amount</th>\n",
       "      <td>0.210598</td>\n",
       "      <td>-0.401598</td>\n",
       "      <td>0.522261</td>\n",
       "      <td>-0.000782</td>\n",
       "      <td>-0.006569</td>\n",
       "      <td>-0.024694</td>\n",
       "      <td>-0.011100</td>\n",
       "      <td>1.000000</td>\n",
       "    </tr>\n",
       "  </tbody>\n",
       "</table>\n",
       "</div>"
      ],
      "text/plain": [
       "                               customer_lifetime_value    income  \\\n",
       "customer_lifetime_value                       1.000000  0.055395   \n",
       "income                                        0.055395  1.000000   \n",
       "monthly_premium_auto                          0.453933 -0.017608   \n",
       "months_since_last_claim                       0.005126 -0.025784   \n",
       "months_since_policy_inception                -0.002429 -0.001945   \n",
       "number_of_open_complaints                    -0.031312  0.006334   \n",
       "number_of_policies                            0.488860 -0.010273   \n",
       "total_claim_amount                            0.210598 -0.401598   \n",
       "\n",
       "                               monthly_premium_auto  months_since_last_claim  \\\n",
       "customer_lifetime_value                    0.453933                 0.005126   \n",
       "income                                    -0.017608                -0.025784   \n",
       "monthly_premium_auto                       1.000000                -0.005989   \n",
       "months_since_last_claim                   -0.005989                 1.000000   \n",
       "months_since_policy_inception              0.014596                -0.048269   \n",
       "number_of_open_complaints                 -0.012751                 0.005736   \n",
       "number_of_policies                        -0.006936                 0.011439   \n",
       "total_claim_amount                         0.522261                -0.000782   \n",
       "\n",
       "                               months_since_policy_inception  \\\n",
       "customer_lifetime_value                            -0.002429   \n",
       "income                                             -0.001945   \n",
       "monthly_premium_auto                                0.014596   \n",
       "months_since_last_claim                            -0.048269   \n",
       "months_since_policy_inception                       1.000000   \n",
       "number_of_open_complaints                          -0.013233   \n",
       "number_of_policies                                 -0.009546   \n",
       "total_claim_amount                                 -0.006569   \n",
       "\n",
       "                               number_of_open_complaints  number_of_policies  \\\n",
       "customer_lifetime_value                        -0.031312            0.488860   \n",
       "income                                          0.006334           -0.010273   \n",
       "monthly_premium_auto                           -0.012751           -0.006936   \n",
       "months_since_last_claim                         0.005736            0.011439   \n",
       "months_since_policy_inception                  -0.013233           -0.009546   \n",
       "number_of_open_complaints                       1.000000            0.001523   \n",
       "number_of_policies                              0.001523            1.000000   \n",
       "total_claim_amount                             -0.024694           -0.011100   \n",
       "\n",
       "                               total_claim_amount  \n",
       "customer_lifetime_value                  0.210598  \n",
       "income                                  -0.401598  \n",
       "monthly_premium_auto                     0.522261  \n",
       "months_since_last_claim                 -0.000782  \n",
       "months_since_policy_inception           -0.006569  \n",
       "number_of_open_complaints               -0.024694  \n",
       "number_of_policies                      -0.011100  \n",
       "total_claim_amount                       1.000000  "
      ]
     },
     "execution_count": 5,
     "metadata": {},
     "output_type": "execute_result"
    }
   ],
   "source": [
    "corr_mat = df.corr(method='spearman')\n",
    "corr_mat"
   ]
  },
  {
   "cell_type": "code",
   "execution_count": 6,
   "id": "bbc8bbf3",
   "metadata": {},
   "outputs": [
    {
     "data": {
      "image/png": "[encoded data removed]",
      "text/plain": [
       "<Figure size 1008x864 with 2 Axes>"
      ]
     },
     "metadata": {
      "needs_background": "light"
     },
     "output_type": "display_data"
    }
   ],
   "source": [
    "# Plot a correlation matrix to locate possible correlation right away\n",
    "\n",
    "mask = np.zeros_like(corr_mat)\n",
    "mask[np.triu_indices_from(mask)] = True # Mask to hide the repeated half of the matrix\n",
    "\n",
    "fig, ax = plt.subplots(figsize=(14, 12)) # this will set the width and height of the plot\n",
    "sns.set_context('paper') #This affects things like the size of the labels, lines, and other elements of the plot\n",
    "ax = sns.heatmap(corr_mat, mask=mask, annot=True, cmap='jet') # Heatmap declaration\n",
    "ax.set_title('Multi-collinearity of customer features') #Title for the graph\n",
    "plt.show()"
   ]
  },
  {
   "cell_type": "markdown",
   "id": "bf5e9a0f",
   "metadata": {},
   "source": [
    "## Categorical features"
   ]
  },
  {
   "cell_type": "code",
   "execution_count": 7,
   "id": "78ff7559",
   "metadata": {},
   "outputs": [
    {
     "data": {
      "image/png": "[encoded data removed]",
      "text/plain": [
       "<Figure size 432x288 with 1 Axes>"
      ]
     },
     "metadata": {
      "needs_background": "light"
     },
     "output_type": "display_data"
    },
    {
     "data": {
      "image/png": "[encoded data removed]",
      "text/plain": [
       "<Figure size 432x288 with 1 Axes>"
      ]
     },
     "metadata": {
      "needs_background": "light"
     },
     "output_type": "display_data"
    },
    {
     "data": {
      "image/png": "[encoded data removed]",
      "text/plain": [
       "<Figure size 432x288 with 1 Axes>"
      ]
     },
     "metadata": {
      "needs_background": "light"
     },
     "output_type": "display_data"
    },
    {
     "data": {
      "image/png": "[encoded data removed]",
      "text/plain": [
       "<Figure size 432x288 with 1 Axes>"
      ]
     },
     "metadata": {
      "needs_background": "light"
     },
     "output_type": "display_data"
    },
    {
     "data": {
      "image/png": "[encoded data removed]",
      "text/plain": [
       "<Figure size 432x288 with 1 Axes>"
      ]
     },
     "metadata": {
      "needs_background": "light"
     },
     "output_type": "display_data"
    },
    {
     "data": {
      "image/png": "[encoded data removed]",
      "text/plain": [
       "<Figure size 432x288 with 1 Axes>"
      ]
     },
     "metadata": {
      "needs_background": "light"
     },
     "output_type": "display_data"
    },
    {
     "data": {
      "image/png": "[encoded data removed]",
      "text/plain": [
       "<Figure size 432x288 with 1 Axes>"
      ]
     },
     "metadata": {
      "needs_background": "light"
     },
     "output_type": "display_data"
    },
    {
     "data": {
      "image/png": "[encoded data removed]",
      "text/plain": [
       "<Figure size 432x288 with 1 Axes>"
      ]
     },
     "metadata": {
      "needs_background": "light"
     },
     "output_type": "display_data"
    },
    {
     "data": {
      "image/png": "[encoded data removed]",
      "text/plain": [
       "<Figure size 432x288 with 1 Axes>"
      ]
     },
     "metadata": {
      "needs_background": "light"
     },
     "output_type": "display_data"
    },
    {
     "data": {
      "image/png": "[encoded data removed]",
      "text/plain": [
       "<Figure size 432x288 with 1 Axes>"
      ]
     },
     "metadata": {
      "needs_background": "light"
     },
     "output_type": "display_data"
    },
    {
     "data": {
      "image/png": "[encoded data removed]",
      "text/plain": [
       "<Figure size 432x288 with 1 Axes>"
      ]
     },
     "metadata": {
      "needs_background": "light"
     },
     "output_type": "display_data"
    },
    {
     "data": {
      "image/png": "[encoded data removed]",
      "text/plain": [
       "<Figure size 432x288 with 1 Axes>"
      ]
     },
     "metadata": {
      "needs_background": "light"
     },
     "output_type": "display_data"
    },
    {
     "data": {
      "image/png": "[encoded data removed]",
      "text/plain": [
       "<Figure size 432x288 with 1 Axes>"
      ]
     },
     "metadata": {
      "needs_background": "light"
     },
     "output_type": "display_data"
    }
   ],
   "source": [
    "categoricals=df.select_dtypes(include=['object', 'datetime64']).drop(['customer','effective_to_date','response'], axis=1)\n",
    "#NOTE: I am excluding the datetime objects\n",
    "\n",
    "for col in categoricals.columns:\n",
    "    sns.countplot(x=df[col], hue=df['response'])\n",
    "    plt.show()"
   ]
  },
  {
   "cell_type": "markdown",
   "id": "45c1c0ca",
   "metadata": {},
   "source": [
    "# Feature Engineering"
   ]
  },
  {
   "cell_type": "markdown",
   "id": "739f5e74",
   "metadata": {},
   "source": [
    "## Normalization - BoxCox Transformation"
   ]
  },
  {
   "cell_type": "code",
   "execution_count": 8,
   "id": "a2c5ca73",
   "metadata": {},
   "outputs": [],
   "source": [
    "def boxcox_transform(df):\n",
    "    numeric_cols = df.select_dtypes(np.number).columns\n",
    "    _ci = {column: None for column in numeric_cols} #it will first generate this dictionary\n",
    "    for column in numeric_cols:\n",
    "        #In this case, I need the confidence interval data\n",
    "        # since i know any columns should take negative numbers, to avoid -inf in df\n",
    "        df[column] = np.where(df[column]<=0, np.NAN, df[column]) #boxcox does not work with negatives\n",
    "        df[column] = df[column].fillna(df[column].mean()) #I fill the nan's with the mean\n",
    "        transformed_data, ci = stats.boxcox(df[column]) \n",
    "        df[column] = transformed_data\n",
    "        _ci[column] = [ci] \n",
    "    return df, _ci"
   ]
  },
  {
   "cell_type": "code",
   "execution_count": 9,
   "id": "67eda23c",
   "metadata": {},
   "outputs": [],
   "source": [
    "df_for_BCTrans = df.copy() #It is important to do it this way with the .copy method.\n",
    "\n",
    "df_trans, _ci = boxcox_transform(df_for_BCTrans)"
   ]
  },
  {
   "cell_type": "markdown",
   "id": "3d2b0378",
   "metadata": {},
   "source": [
    "## Remove Outliers"
   ]
  },
  {
   "cell_type": "code",
   "execution_count": 10,
   "id": "a9fd4dc3",
   "metadata": {},
   "outputs": [
    {
     "data": {
      "image/png": "[encoded data removed]",
      "text/plain": [
       "<Figure size 432x288 with 1 Axes>"
      ]
     },
     "metadata": {
      "needs_background": "light"
     },
     "output_type": "display_data"
    },
    {
     "data": {
      "image/png": "[encoded data removed]",
      "text/plain": [
       "<Figure size 432x288 with 1 Axes>"
      ]
     },
     "metadata": {
      "needs_background": "light"
     },
     "output_type": "display_data"
    },
    {
     "data": {
      "image/png": "[encoded data removed]",
      "text/plain": [
       "<Figure size 432x288 with 1 Axes>"
      ]
     },
     "metadata": {
      "needs_background": "light"
     },
     "output_type": "display_data"
    },
    {
     "data": {
      "image/png": "[encoded data removed]",
      "text/plain": [
       "<Figure size 432x288 with 1 Axes>"
      ]
     },
     "metadata": {
      "needs_background": "light"
     },
     "output_type": "display_data"
    },
    {
     "data": {
      "image/png": "[encoded data removed]",
      "text/plain": [
       "<Figure size 432x288 with 1 Axes>"
      ]
     },
     "metadata": {
      "needs_background": "light"
     },
     "output_type": "display_data"
    },
    {
     "data": {
      "image/png": "[encoded data removed]",
      "text/plain": [
       "<Figure size 432x288 with 1 Axes>"
      ]
     },
     "metadata": {
      "needs_background": "light"
     },
     "output_type": "display_data"
    },
    {
     "data": {
      "image/png": "[encoded data removed]",
      "text/plain": [
       "<Figure size 432x288 with 1 Axes>"
      ]
     },
     "metadata": {
      "needs_background": "light"
     },
     "output_type": "display_data"
    },
    {
     "data": {
      "image/png": "[encoded data removed]",
      "text/plain": [
       "<Figure size 432x288 with 1 Axes>"
      ]
     },
     "metadata": {
      "needs_background": "light"
     },
     "output_type": "display_data"
    },
    {
     "data": {
      "text/plain": [
       "(9134, 24)"
      ]
     },
     "execution_count": 10,
     "metadata": {},
     "output_type": "execute_result"
    }
   ],
   "source": [
    "for col in df_trans.select_dtypes(include = np.number):\n",
    "    sns.boxplot(x=df_trans[col])#, whis=10) # whis is the parameter to choose your threshold, standard is 1.5\n",
    "    plt.show()\n",
    "    \n",
    "df_trans.shape"
   ]
  },
  {
   "cell_type": "code",
   "execution_count": 11,
   "id": "2259eb6a",
   "metadata": {},
   "outputs": [],
   "source": [
    "def remove_outliers(df, threshold=1.5, in_columns=df.select_dtypes(np.number).columns, skip_columns=[]):\n",
    "    for column in in_columns:\n",
    "        if column not in skip_columns:\n",
    "            upper = np.percentile(df[column],75)\n",
    "            lower = np.percentile(df[column],25)\n",
    "            iqr = upper - lower\n",
    "            upper_limit = upper + threshold * iqr\n",
    "            lower_limit = lower - threshold * iqr\n",
    "            df = df[(df[column]>lower_limit) & (df[column]<upper_limit)]\n",
    "    return df"
   ]
  },
  {
   "cell_type": "code",
   "execution_count": 12,
   "id": "f0d426d1",
   "metadata": {},
   "outputs": [
    {
     "data": {
      "image/png": "[encoded data removed]",
      "text/plain": [
       "<Figure size 432x288 with 1 Axes>"
      ]
     },
     "metadata": {
      "needs_background": "light"
     },
     "output_type": "display_data"
    },
    {
     "data": {
      "image/png": "[encoded data removed]",
      "text/plain": [
       "<Figure size 432x288 with 1 Axes>"
      ]
     },
     "metadata": {
      "needs_background": "light"
     },
     "output_type": "display_data"
    },
    {
     "data": {
      "text/plain": [
       "(8534, 24)"
      ]
     },
     "execution_count": 12,
     "metadata": {},
     "output_type": "execute_result"
    }
   ],
   "source": [
    "df_trans_outliers = df_trans.copy()\n",
    "\n",
    "df_trans_outliers = remove_outliers(df_trans_outliers, threshold=1.5, in_columns=['total_claim_amount']) # we don't want to reduce our data too much,\n",
    "## but we can play with the parameters to see,\n",
    "## so after a better analysis we can choose which columns to drop outliers or not\n",
    "sns.boxplot(x=df_trans_outliers['customer_lifetime_value'])\n",
    "plt.show()\n",
    "sns.boxplot(x=df_trans_outliers['total_claim_amount'])\n",
    "plt.show()\n",
    "df_trans_outliers.shape"
   ]
  },
  {
   "cell_type": "code",
   "execution_count": 13,
   "id": "a7b886b6",
   "metadata": {},
   "outputs": [],
   "source": [
    "df=df_trans_outliers"
   ]
  },
  {
   "cell_type": "markdown",
   "id": "a1ba9dee",
   "metadata": {},
   "source": [
    "## X/y split"
   ]
  },
  {
   "cell_type": "code",
   "execution_count": 14,
   "id": "d7f66b79",
   "metadata": {},
   "outputs": [
    {
     "name": "stderr",
     "output_type": "stream",
     "text": [
      "<ipython-input-14-0f2dcb1baa20>:5: DeprecationWarning: `np.object` is a deprecated alias for the builtin `object`. To silence this warning, use `object` by itself. Doing this will not modify any behavior and is safe. \n",
      "Deprecated in NumPy 1.20; for more details and guidance: https://numpy.org/devdocs/release/1.20.0-notes.html#deprecations\n",
      "  X_cat = X.select_dtypes(include = np.object).drop(['customer'], axis=1)\n"
     ]
    }
   ],
   "source": [
    "y = df['total_claim_amount']\n",
    "X = df.drop(['total_claim_amount'], axis=1)\n",
    "\n",
    "X_num = X.select_dtypes(include = np.number)#np.number includes int and float\n",
    "X_cat = X.select_dtypes(include = np.object).drop(['customer'], axis=1)"
   ]
  },
  {
   "cell_type": "markdown",
   "id": "8032ee1d",
   "metadata": {},
   "source": [
    "## Encoding categorical values"
   ]
  },
  {
   "cell_type": "code",
   "execution_count": 15,
   "id": "f5ddae1c",
   "metadata": {},
   "outputs": [
    {
     "data": {
      "text/plain": [
       "array([[0., 0., 0., ..., 1., 1., 0.],\n",
       "       [0., 0., 0., ..., 0., 1., 0.],\n",
       "       [0., 1., 0., ..., 1., 1., 0.],\n",
       "       ...,\n",
       "       [1., 0., 0., ..., 0., 1., 0.],\n",
       "       [1., 0., 0., ..., 0., 0., 0.],\n",
       "       [1., 0., 0., ..., 1., 1., 0.]])"
      ]
     },
     "execution_count": 15,
     "metadata": {},
     "output_type": "execute_result"
    }
   ],
   "source": [
    "# One Hot Encoding categorical variables\n",
    "encoder = OneHotEncoder(handle_unknown='error', drop='first') #drop one column for efficiency. It can be deduced\n",
    "X_cat_encoded = encoder.fit_transform(X_cat).toarray()\n",
    "X_cat_encoded"
   ]
  },
  {
   "cell_type": "code",
   "execution_count": 16,
   "id": "bd155f75",
   "metadata": {},
   "outputs": [
    {
     "data": {
      "text/html": [
       "<div>\n",
       "<style scoped>\n",
       "    .dataframe tbody tr th:only-of-type {\n",
       "        vertical-align: middle;\n",
       "    }\n",
       "\n",
       "    .dataframe tbody tr th {\n",
       "        vertical-align: top;\n",
       "    }\n",
       "\n",
       "    .dataframe thead th {\n",
       "        text-align: right;\n",
       "    }\n",
       "</style>\n",
       "<table border=\"1\" class=\"dataframe\">\n",
       "  <thead>\n",
       "    <tr style=\"text-align: right;\">\n",
       "      <th></th>\n",
       "      <th>customer_lifetime_value</th>\n",
       "      <th>income</th>\n",
       "      <th>monthly_premium_auto</th>\n",
       "      <th>months_since_last_claim</th>\n",
       "      <th>months_since_policy_inception</th>\n",
       "      <th>number_of_open_complaints</th>\n",
       "      <th>number_of_policies</th>\n",
       "      <th>x0_California</th>\n",
       "      <th>x0_Nevada</th>\n",
       "      <th>x0_Oregon</th>\n",
       "      <th>...</th>\n",
       "      <th>x11_Branch</th>\n",
       "      <th>x11_Call Center</th>\n",
       "      <th>x11_Web</th>\n",
       "      <th>x12_Luxury Car</th>\n",
       "      <th>x12_Luxury SUV</th>\n",
       "      <th>x12_SUV</th>\n",
       "      <th>x12_Sports Car</th>\n",
       "      <th>x12_Two-Door Car</th>\n",
       "      <th>x13_Medsize</th>\n",
       "      <th>x13_Small</th>\n",
       "    </tr>\n",
       "  </thead>\n",
       "  <tbody>\n",
       "    <tr>\n",
       "      <th>462</th>\n",
       "      <td>2.689325</td>\n",
       "      <td>1167.961720</td>\n",
       "      <td>0.685316</td>\n",
       "      <td>1.526503</td>\n",
       "      <td>2.367325</td>\n",
       "      <td>0.648045</td>\n",
       "      <td>0.000000</td>\n",
       "      <td>0.0</td>\n",
       "      <td>1.0</td>\n",
       "      <td>0.0</td>\n",
       "      <td>...</td>\n",
       "      <td>0.0</td>\n",
       "      <td>0.0</td>\n",
       "      <td>1.0</td>\n",
       "      <td>0.0</td>\n",
       "      <td>0.0</td>\n",
       "      <td>0.0</td>\n",
       "      <td>0.0</td>\n",
       "      <td>0.0</td>\n",
       "      <td>1.0</td>\n",
       "      <td>0.0</td>\n",
       "    </tr>\n",
       "    <tr>\n",
       "      <th>501</th>\n",
       "      <td>2.754318</td>\n",
       "      <td>1167.961720</td>\n",
       "      <td>0.685251</td>\n",
       "      <td>0.849804</td>\n",
       "      <td>29.124329</td>\n",
       "      <td>0.648045</td>\n",
       "      <td>0.607328</td>\n",
       "      <td>1.0</td>\n",
       "      <td>0.0</td>\n",
       "      <td>0.0</td>\n",
       "      <td>...</td>\n",
       "      <td>1.0</td>\n",
       "      <td>0.0</td>\n",
       "      <td>0.0</td>\n",
       "      <td>0.0</td>\n",
       "      <td>0.0</td>\n",
       "      <td>0.0</td>\n",
       "      <td>0.0</td>\n",
       "      <td>0.0</td>\n",
       "      <td>0.0</td>\n",
       "      <td>1.0</td>\n",
       "    </tr>\n",
       "    <tr>\n",
       "      <th>3088</th>\n",
       "      <td>2.744436</td>\n",
       "      <td>877.484118</td>\n",
       "      <td>0.685406</td>\n",
       "      <td>3.981540</td>\n",
       "      <td>13.322401</td>\n",
       "      <td>0.648045</td>\n",
       "      <td>0.893486</td>\n",
       "      <td>1.0</td>\n",
       "      <td>0.0</td>\n",
       "      <td>0.0</td>\n",
       "      <td>...</td>\n",
       "      <td>1.0</td>\n",
       "      <td>0.0</td>\n",
       "      <td>0.0</td>\n",
       "      <td>0.0</td>\n",
       "      <td>0.0</td>\n",
       "      <td>0.0</td>\n",
       "      <td>0.0</td>\n",
       "      <td>0.0</td>\n",
       "      <td>0.0</td>\n",
       "      <td>1.0</td>\n",
       "    </tr>\n",
       "    <tr>\n",
       "      <th>648</th>\n",
       "      <td>2.781266</td>\n",
       "      <td>1144.589895</td>\n",
       "      <td>0.686078</td>\n",
       "      <td>0.000000</td>\n",
       "      <td>2.367325</td>\n",
       "      <td>0.000000</td>\n",
       "      <td>0.607328</td>\n",
       "      <td>0.0</td>\n",
       "      <td>0.0</td>\n",
       "      <td>1.0</td>\n",
       "      <td>...</td>\n",
       "      <td>1.0</td>\n",
       "      <td>0.0</td>\n",
       "      <td>0.0</td>\n",
       "      <td>0.0</td>\n",
       "      <td>0.0</td>\n",
       "      <td>0.0</td>\n",
       "      <td>0.0</td>\n",
       "      <td>0.0</td>\n",
       "      <td>1.0</td>\n",
       "      <td>0.0</td>\n",
       "    </tr>\n",
       "    <tr>\n",
       "      <th>3909</th>\n",
       "      <td>2.792702</td>\n",
       "      <td>1556.518164</td>\n",
       "      <td>0.686529</td>\n",
       "      <td>2.634511</td>\n",
       "      <td>23.379802</td>\n",
       "      <td>0.648045</td>\n",
       "      <td>1.070748</td>\n",
       "      <td>1.0</td>\n",
       "      <td>0.0</td>\n",
       "      <td>0.0</td>\n",
       "      <td>...</td>\n",
       "      <td>1.0</td>\n",
       "      <td>0.0</td>\n",
       "      <td>0.0</td>\n",
       "      <td>0.0</td>\n",
       "      <td>1.0</td>\n",
       "      <td>0.0</td>\n",
       "      <td>0.0</td>\n",
       "      <td>0.0</td>\n",
       "      <td>1.0</td>\n",
       "      <td>0.0</td>\n",
       "    </tr>\n",
       "  </tbody>\n",
       "</table>\n",
       "<p>5 rows × 50 columns</p>\n",
       "</div>"
      ],
      "text/plain": [
       "      customer_lifetime_value       income  monthly_premium_auto  \\\n",
       "462                  2.689325  1167.961720              0.685316   \n",
       "501                  2.754318  1167.961720              0.685251   \n",
       "3088                 2.744436   877.484118              0.685406   \n",
       "648                  2.781266  1144.589895              0.686078   \n",
       "3909                 2.792702  1556.518164              0.686529   \n",
       "\n",
       "      months_since_last_claim  months_since_policy_inception  \\\n",
       "462                  1.526503                       2.367325   \n",
       "501                  0.849804                      29.124329   \n",
       "3088                 3.981540                      13.322401   \n",
       "648                  0.000000                       2.367325   \n",
       "3909                 2.634511                      23.379802   \n",
       "\n",
       "      number_of_open_complaints  number_of_policies  x0_California  x0_Nevada  \\\n",
       "462                    0.648045            0.000000            0.0        1.0   \n",
       "501                    0.648045            0.607328            1.0        0.0   \n",
       "3088                   0.648045            0.893486            1.0        0.0   \n",
       "648                    0.000000            0.607328            0.0        0.0   \n",
       "3909                   0.648045            1.070748            1.0        0.0   \n",
       "\n",
       "      x0_Oregon  ...  x11_Branch  x11_Call Center  x11_Web  x12_Luxury Car  \\\n",
       "462         0.0  ...         0.0              0.0      1.0             0.0   \n",
       "501         0.0  ...         1.0              0.0      0.0             0.0   \n",
       "3088        0.0  ...         1.0              0.0      0.0             0.0   \n",
       "648         1.0  ...         1.0              0.0      0.0             0.0   \n",
       "3909        0.0  ...         1.0              0.0      0.0             0.0   \n",
       "\n",
       "      x12_Luxury SUV  x12_SUV  x12_Sports Car  x12_Two-Door Car  x13_Medsize  \\\n",
       "462              0.0      0.0             0.0               0.0          1.0   \n",
       "501              0.0      0.0             0.0               0.0          0.0   \n",
       "3088             0.0      0.0             0.0               0.0          0.0   \n",
       "648              0.0      0.0             0.0               0.0          1.0   \n",
       "3909             1.0      0.0             0.0               0.0          1.0   \n",
       "\n",
       "      x13_Small  \n",
       "462         0.0  \n",
       "501         1.0  \n",
       "3088        1.0  \n",
       "648         0.0  \n",
       "3909        0.0  \n",
       "\n",
       "[5 rows x 50 columns]"
      ]
     },
     "execution_count": 16,
     "metadata": {},
     "output_type": "execute_result"
    }
   ],
   "source": [
    "# Concat DataFrames\n",
    "\n",
    "column_names = list(X_num.columns) # get list of numerical column names\n",
    "column_names.extend(list(encoder.get_feature_names())) # add list of dummified categorical column names\n",
    "\n",
    "X_numcat = np.concatenate([X_num, X_cat_encoded], axis=1)\n",
    "X_ready = pd.DataFrame(data=X_numcat, index=X.index, columns=column_names)\n",
    "X_ready.sample(5)"
   ]
  },
  {
   "cell_type": "markdown",
   "id": "d5677022",
   "metadata": {},
   "source": [
    "## Train-test Split"
   ]
  },
  {
   "cell_type": "code",
   "execution_count": 17,
   "id": "36dc7b75",
   "metadata": {},
   "outputs": [],
   "source": [
    "X_train, X_test, y_train, y_test = train_test_split(X_ready, y, test_size=0.3, random_state=42)"
   ]
  },
  {
   "cell_type": "markdown",
   "id": "5c4dc26b",
   "metadata": {},
   "source": [
    "## Model fitting"
   ]
  },
  {
   "cell_type": "code",
   "execution_count": 18,
   "id": "26e8e9e5",
   "metadata": {},
   "outputs": [
    {
     "data": {
      "text/plain": [
       "LinearRegression()"
      ]
     },
     "execution_count": 18,
     "metadata": {},
     "output_type": "execute_result"
    }
   ],
   "source": [
    "model = LinearRegression()\n",
    "model.fit(X_train, y_train)"
   ]
  },
  {
   "cell_type": "markdown",
   "id": "3867ddb2",
   "metadata": {},
   "source": [
    "# Model evaluation"
   ]
  },
  {
   "cell_type": "code",
   "execution_count": 19,
   "id": "7b80f6a5",
   "metadata": {},
   "outputs": [],
   "source": [
    "predictions_norm = model.predict(X_test)\n",
    "R2 = r2_score(y_test, predictions_norm)\n",
    "\n",
    "from scipy.special import inv_boxcox\n",
    "\n",
    "predictions = inv_boxcox(predictions_norm, _ci['total_claim_amount'])\n",
    "\n",
    "MAE = mean_absolute_error(y_test, predictions)\n",
    "MSE = mean_squared_error(y_test, predictions, squared=True)\n",
    "RMSE = mean_squared_error(y_test, predictions, squared=False)"
   ]
  },
  {
   "cell_type": "code",
   "execution_count": 20,
   "id": "03d2af16",
   "metadata": {},
   "outputs": [
    {
     "name": "stdout",
     "output_type": "stream",
     "text": [
      "R2 = 0.8295799539292135 MAE = 387.8211089650025 MSE = 183016.9317741342 RMSE = 427.8047823179799\n"
     ]
    }
   ],
   "source": [
    "print('R2 =',R2, 'MAE =', MAE, 'MSE =', MSE, 'RMSE =', RMSE)"
   ]
  },
  {
   "cell_type": "code",
   "execution_count": 23,
   "id": "0a42cd56",
   "metadata": {},
   "outputs": [],
   "source": [
    "import math\n",
    "\n",
    "results = pd.DataFrame()\n",
    "results['true'] = inv_boxcox(y_test, _ci['total_claim_amount'])\n",
    "results['pred'] = predictions\n",
    "results['resid'] = results.apply(lambda x: abs(x['true'] - x['pred']), axis=1)\n",
    "results=results.sort_values('resid', ascending=False)"
   ]
  },
  {
   "cell_type": "code",
   "execution_count": 25,
   "id": "57409410",
   "metadata": {},
   "outputs": [
    {
     "data": {
      "text/html": [
       "<div>\n",
       "<style scoped>\n",
       "    .dataframe tbody tr th:only-of-type {\n",
       "        vertical-align: middle;\n",
       "    }\n",
       "\n",
       "    .dataframe tbody tr th {\n",
       "        vertical-align: top;\n",
       "    }\n",
       "\n",
       "    .dataframe thead th {\n",
       "        text-align: right;\n",
       "    }\n",
       "</style>\n",
       "<table border=\"1\" class=\"dataframe\">\n",
       "  <thead>\n",
       "    <tr style=\"text-align: right;\">\n",
       "      <th></th>\n",
       "      <th>true</th>\n",
       "      <th>pred</th>\n",
       "      <th>resid</th>\n",
       "    </tr>\n",
       "  </thead>\n",
       "  <tbody>\n",
       "    <tr>\n",
       "      <th>2035</th>\n",
       "      <td>1101.054320</td>\n",
       "      <td>481.364332</td>\n",
       "      <td>619.689988</td>\n",
       "    </tr>\n",
       "    <tr>\n",
       "      <th>2008</th>\n",
       "      <td>1138.255325</td>\n",
       "      <td>592.516345</td>\n",
       "      <td>545.738980</td>\n",
       "    </tr>\n",
       "    <tr>\n",
       "      <th>6813</th>\n",
       "      <td>1106.913309</td>\n",
       "      <td>572.181067</td>\n",
       "      <td>534.732242</td>\n",
       "    </tr>\n",
       "    <tr>\n",
       "      <th>7437</th>\n",
       "      <td>1134.960471</td>\n",
       "      <td>637.186971</td>\n",
       "      <td>497.773500</td>\n",
       "    </tr>\n",
       "    <tr>\n",
       "      <th>7102</th>\n",
       "      <td>1123.212014</td>\n",
       "      <td>629.259694</td>\n",
       "      <td>493.952320</td>\n",
       "    </tr>\n",
       "    <tr>\n",
       "      <th>...</th>\n",
       "      <td>...</td>\n",
       "      <td>...</td>\n",
       "      <td>...</td>\n",
       "    </tr>\n",
       "    <tr>\n",
       "      <th>4935</th>\n",
       "      <td>333.696228</td>\n",
       "      <td>333.849255</td>\n",
       "      <td>0.153027</td>\n",
       "    </tr>\n",
       "    <tr>\n",
       "      <th>3044</th>\n",
       "      <td>457.593764</td>\n",
       "      <td>457.727880</td>\n",
       "      <td>0.134116</td>\n",
       "    </tr>\n",
       "    <tr>\n",
       "      <th>4485</th>\n",
       "      <td>459.785009</td>\n",
       "      <td>459.832529</td>\n",
       "      <td>0.047520</td>\n",
       "    </tr>\n",
       "    <tr>\n",
       "      <th>5342</th>\n",
       "      <td>558.835255</td>\n",
       "      <td>558.881125</td>\n",
       "      <td>0.045870</td>\n",
       "    </tr>\n",
       "    <tr>\n",
       "      <th>48</th>\n",
       "      <td>529.624084</td>\n",
       "      <td>529.625866</td>\n",
       "      <td>0.001782</td>\n",
       "    </tr>\n",
       "  </tbody>\n",
       "</table>\n",
       "<p>2561 rows × 3 columns</p>\n",
       "</div>"
      ],
      "text/plain": [
       "             true        pred       resid\n",
       "2035  1101.054320  481.364332  619.689988\n",
       "2008  1138.255325  592.516345  545.738980\n",
       "6813  1106.913309  572.181067  534.732242\n",
       "7437  1134.960471  637.186971  497.773500\n",
       "7102  1123.212014  629.259694  493.952320\n",
       "...           ...         ...         ...\n",
       "4935   333.696228  333.849255    0.153027\n",
       "3044   457.593764  457.727880    0.134116\n",
       "4485   459.785009  459.832529    0.047520\n",
       "5342   558.835255  558.881125    0.045870\n",
       "48     529.624084  529.625866    0.001782\n",
       "\n",
       "[2561 rows x 3 columns]"
      ]
     },
     "metadata": {},
     "output_type": "display_data"
    },
    {
     "data": {
      "image/png": "[encoded data removed]",
      "text/plain": [
       "<Figure size 432x288 with 1 Axes>"
      ]
     },
     "metadata": {
      "needs_background": "light"
     },
     "output_type": "display_data"
    }
   ],
   "source": [
    "display(results)\n",
    "sns.boxplot(x=results['resid'])\n",
    "plt.show()"
   ]
  },
  {
   "cell_type": "code",
   "execution_count": 42,
   "id": "8a3051ee",
   "metadata": {},
   "outputs": [
    {
     "name": "stderr",
     "output_type": "stream",
     "text": [
      "/opt/anaconda3/lib/python3.8/site-packages/seaborn/_decorators.py:36: FutureWarning: Pass the following variables as keyword args: x, y. From version 0.12, the only valid positional argument will be `data`, and passing other arguments without an explicit keyword will result in an error or misinterpretation.\n",
      "  warnings.warn(\n"
     ]
    },
    {
     "data": {
      "text/plain": [
       "<AxesSubplot:xlabel='true', ylabel='pred'>"
      ]
     },
     "execution_count": 42,
     "metadata": {},
     "output_type": "execute_result"
    },
    {
     "data": {
      "image/png": "[encoded data removed]",
      "text/plain": [
       "<Figure size 432x288 with 1 Axes>"
      ]
     },
     "metadata": {
      "needs_background": "light"
     },
     "output_type": "display_data"
    }
   ],
   "source": [
    "sns.regplot(results['true'], results['pred'])"
   ]
  },
  {
   "cell_type": "markdown",
   "id": "1bf84e58",
   "metadata": {},
   "source": [
    "# Improving the model"
   ]
  },
  {
   "cell_type": "markdown",
   "id": "e90cd8c2",
   "metadata": {},
   "source": [
    "## Check multicollinearity with VIF"
   ]
  },
  {
   "cell_type": "code",
   "execution_count": 34,
   "id": "dd132bc4",
   "metadata": {},
   "outputs": [
    {
     "name": "stderr",
     "output_type": "stream",
     "text": [
      "/opt/anaconda3/lib/python3.8/site-packages/statsmodels/stats/outliers_influence.py:193: RuntimeWarning: divide by zero encountered in double_scalars\n",
      "  vif = 1. / (1. - r_squared_i)\n"
     ]
    },
    {
     "data": {
      "text/html": [
       "<div>\n",
       "<style scoped>\n",
       "    .dataframe tbody tr th:only-of-type {\n",
       "        vertical-align: middle;\n",
       "    }\n",
       "\n",
       "    .dataframe tbody tr th {\n",
       "        vertical-align: top;\n",
       "    }\n",
       "\n",
       "    .dataframe thead th {\n",
       "        text-align: right;\n",
       "    }\n",
       "</style>\n",
       "<table border=\"1\" class=\"dataframe\">\n",
       "  <thead>\n",
       "    <tr style=\"text-align: right;\">\n",
       "      <th></th>\n",
       "      <th>feature</th>\n",
       "      <th>VIF</th>\n",
       "    </tr>\n",
       "  </thead>\n",
       "  <tbody>\n",
       "    <tr>\n",
       "      <th>0</th>\n",
       "      <td>customer_lifetime_value</td>\n",
       "      <td>15025.511098</td>\n",
       "    </tr>\n",
       "    <tr>\n",
       "      <th>1</th>\n",
       "      <td>income</td>\n",
       "      <td>25.092253</td>\n",
       "    </tr>\n",
       "    <tr>\n",
       "      <th>2</th>\n",
       "      <td>monthly_premium_auto</td>\n",
       "      <td>14853.767023</td>\n",
       "    </tr>\n",
       "    <tr>\n",
       "      <th>4</th>\n",
       "      <td>months_since_policy_inception</td>\n",
       "      <td>5.484248</td>\n",
       "    </tr>\n",
       "    <tr>\n",
       "      <th>5</th>\n",
       "      <td>number_of_open_complaints</td>\n",
       "      <td>6.231231</td>\n",
       "    </tr>\n",
       "    <tr>\n",
       "      <th>18</th>\n",
       "      <td>x4_Employed</td>\n",
       "      <td>18.637743</td>\n",
       "    </tr>\n",
       "    <tr>\n",
       "      <th>21</th>\n",
       "      <td>x4_Unemployed</td>\n",
       "      <td>8.154130</td>\n",
       "    </tr>\n",
       "    <tr>\n",
       "      <th>23</th>\n",
       "      <td>x6_Suburban</td>\n",
       "      <td>6.048135</td>\n",
       "    </tr>\n",
       "    <tr>\n",
       "      <th>25</th>\n",
       "      <td>x7_Married</td>\n",
       "      <td>5.163262</td>\n",
       "    </tr>\n",
       "    <tr>\n",
       "      <th>48</th>\n",
       "      <td>x13_Medsize</td>\n",
       "      <td>7.982537</td>\n",
       "    </tr>\n",
       "  </tbody>\n",
       "</table>\n",
       "</div>"
      ],
      "text/plain": [
       "                          feature           VIF\n",
       "0         customer_lifetime_value  15025.511098\n",
       "1                          income     25.092253\n",
       "2            monthly_premium_auto  14853.767023\n",
       "4   months_since_policy_inception      5.484248\n",
       "5       number_of_open_complaints      6.231231\n",
       "18                    x4_Employed     18.637743\n",
       "21                  x4_Unemployed      8.154130\n",
       "23                    x6_Suburban      6.048135\n",
       "25                     x7_Married      5.163262\n",
       "48                    x13_Medsize      7.982537"
      ]
     },
     "metadata": {},
     "output_type": "display_data"
    },
    {
     "data": {
      "image/png": "[encoded data removed]",
      "text/plain": [
       "<Figure size 432x288 with 1 Axes>"
      ]
     },
     "metadata": {
      "needs_background": "light"
     },
     "output_type": "display_data"
    }
   ],
   "source": [
    "from statsmodels.stats.outliers_influence import variance_inflation_factor\n",
    "\n",
    "df_ready=pd.concat([y,X_ready],axis=1)\n",
    "#df_ready\n",
    "\n",
    "#Independent variables set\n",
    "ind_var=X_ready\n",
    "\n",
    "#VIF dataframe\n",
    "vif_data = pd.DataFrame()\n",
    "vif_data['feature'] = ind_var.columns\n",
    "\n",
    "#calculating VIF for each feature\n",
    "vif_data['VIF'] = [variance_inflation_factor(ind_var.values, i) for i in range(len(ind_var.columns))]\n",
    "\n",
    "vif_data['VIF'].replace([np.inf, -np.inf], np.nan, inplace=True)\n",
    "\n",
    "vif_data_filtered=vif_data[vif_data['VIF']>5]\n",
    "display(vif_data_filtered)\n",
    "\n",
    "sns.barplot(x=vif_data_filtered['feature'], y=vif_data_filtered['VIF']).set_yscale(\"log\")\n",
    "plt.show()"
   ]
  },
  {
   "cell_type": "markdown",
   "id": "0aca9454",
   "metadata": {},
   "source": [
    "Decided to drop the two features with extremely high multicollinearity values: customer_lifetime_value and monthly_premium_auto. Then, try fitting the model again."
   ]
  },
  {
   "cell_type": "markdown",
   "id": "33d3c48a",
   "metadata": {},
   "source": [
    "## Second model fitting"
   ]
  },
  {
   "cell_type": "code",
   "execution_count": 36,
   "id": "29254d56",
   "metadata": {},
   "outputs": [],
   "source": [
    "X_ready_2=X_ready.drop(['customer_lifetime_value', 'monthly_premium_auto'], axis=1)"
   ]
  },
  {
   "cell_type": "code",
   "execution_count": 37,
   "id": "4b400788",
   "metadata": {},
   "outputs": [
    {
     "data": {
      "text/plain": [
       "LinearRegression()"
      ]
     },
     "execution_count": 37,
     "metadata": {},
     "output_type": "execute_result"
    }
   ],
   "source": [
    "X_train_2, X_test_2, y_train_2, y_test_2 = train_test_split(X_ready_2, y, test_size=0.3, random_state=42)\n",
    "\n",
    "model = LinearRegression()\n",
    "model.fit(X_train_2, y_train_2)"
   ]
  },
  {
   "cell_type": "code",
   "execution_count": 38,
   "id": "174cee50",
   "metadata": {},
   "outputs": [],
   "source": [
    "predictions_norm_2 = model.predict(X_test_2)\n",
    "R2_2 = r2_score(y_test_2, predictions_norm_2)\n",
    "\n",
    "from scipy.special import inv_boxcox\n",
    "\n",
    "predictions_2 = inv_boxcox(predictions_norm_2, _ci['total_claim_amount'])\n",
    "\n",
    "MAE_2 = mean_absolute_error(y_test_2, predictions_2)\n",
    "MSE_2 = mean_squared_error(y_test_2, predictions_2, squared=True)\n",
    "RMSE_2 = mean_squared_error(y_test_2, predictions_2, squared=False)"
   ]
  },
  {
   "cell_type": "code",
   "execution_count": 41,
   "id": "b5208223",
   "metadata": {},
   "outputs": [
    {
     "data": {
      "text/html": [
       "<div>\n",
       "<style scoped>\n",
       "    .dataframe tbody tr th:only-of-type {\n",
       "        vertical-align: middle;\n",
       "    }\n",
       "\n",
       "    .dataframe tbody tr th {\n",
       "        vertical-align: top;\n",
       "    }\n",
       "\n",
       "    .dataframe thead th {\n",
       "        text-align: right;\n",
       "    }\n",
       "</style>\n",
       "<table border=\"1\" class=\"dataframe\">\n",
       "  <thead>\n",
       "    <tr style=\"text-align: right;\">\n",
       "      <th></th>\n",
       "      <th>parameter</th>\n",
       "      <th>model_1</th>\n",
       "      <th>model_2</th>\n",
       "    </tr>\n",
       "  </thead>\n",
       "  <tbody>\n",
       "    <tr>\n",
       "      <th>0</th>\n",
       "      <td>R2</td>\n",
       "      <td>0.829580</td>\n",
       "      <td>0.821790</td>\n",
       "    </tr>\n",
       "    <tr>\n",
       "      <th>1</th>\n",
       "      <td>MAE</td>\n",
       "      <td>387.821109</td>\n",
       "      <td>387.381171</td>\n",
       "    </tr>\n",
       "    <tr>\n",
       "      <th>2</th>\n",
       "      <td>MSE</td>\n",
       "      <td>183016.931774</td>\n",
       "      <td>182939.373939</td>\n",
       "    </tr>\n",
       "    <tr>\n",
       "      <th>3</th>\n",
       "      <td>RMSE</td>\n",
       "      <td>427.804782</td>\n",
       "      <td>427.714126</td>\n",
       "    </tr>\n",
       "  </tbody>\n",
       "</table>\n",
       "</div>"
      ],
      "text/plain": [
       "  parameter        model_1        model_2\n",
       "0        R2       0.829580       0.821790\n",
       "1       MAE     387.821109     387.381171\n",
       "2       MSE  183016.931774  182939.373939\n",
       "3      RMSE     427.804782     427.714126"
      ]
     },
     "execution_count": 41,
     "metadata": {},
     "output_type": "execute_result"
    }
   ],
   "source": [
    "dict_ = {'parameter':['R2','MAE','MSE','RMSE'],'model_1': [R2,MAE,MSE,RMSE], 'model_2': [R2_2,MAE_2,MSE_2,RMSE_2]}\n",
    "evaluation = pd.DataFrame(data=dict_)\n",
    "evaluation"
   ]
  },
  {
   "cell_type": "markdown",
   "id": "40a491f4",
   "metadata": {},
   "source": [
    "Eliminating those features with high multicolinearity did not have any significant effect on the metrics of the model."
   ]
  },
  {
   "cell_type": "code",
   "execution_count": 40,
   "id": "67afe7a5",
   "metadata": {},
   "outputs": [
    {
     "data": {
      "text/html": [
       "<div>\n",
       "<style scoped>\n",
       "    .dataframe tbody tr th:only-of-type {\n",
       "        vertical-align: middle;\n",
       "    }\n",
       "\n",
       "    .dataframe tbody tr th {\n",
       "        vertical-align: top;\n",
       "    }\n",
       "\n",
       "    .dataframe thead th {\n",
       "        text-align: right;\n",
       "    }\n",
       "</style>\n",
       "<table border=\"1\" class=\"dataframe\">\n",
       "  <thead>\n",
       "    <tr style=\"text-align: right;\">\n",
       "      <th></th>\n",
       "      <th>true</th>\n",
       "      <th>pred</th>\n",
       "      <th>resid</th>\n",
       "    </tr>\n",
       "  </thead>\n",
       "  <tbody>\n",
       "    <tr>\n",
       "      <th>2035</th>\n",
       "      <td>1101.054320</td>\n",
       "      <td>459.675191</td>\n",
       "      <td>641.379129</td>\n",
       "    </tr>\n",
       "    <tr>\n",
       "      <th>2008</th>\n",
       "      <td>1138.255325</td>\n",
       "      <td>567.576555</td>\n",
       "      <td>570.678770</td>\n",
       "    </tr>\n",
       "    <tr>\n",
       "      <th>6813</th>\n",
       "      <td>1106.913309</td>\n",
       "      <td>582.401509</td>\n",
       "      <td>524.511800</td>\n",
       "    </tr>\n",
       "    <tr>\n",
       "      <th>5365</th>\n",
       "      <td>1107.145019</td>\n",
       "      <td>601.173238</td>\n",
       "      <td>505.971781</td>\n",
       "    </tr>\n",
       "    <tr>\n",
       "      <th>7102</th>\n",
       "      <td>1123.212014</td>\n",
       "      <td>623.197801</td>\n",
       "      <td>500.014213</td>\n",
       "    </tr>\n",
       "    <tr>\n",
       "      <th>...</th>\n",
       "      <td>...</td>\n",
       "      <td>...</td>\n",
       "      <td>...</td>\n",
       "    </tr>\n",
       "    <tr>\n",
       "      <th>8813</th>\n",
       "      <td>99.509191</td>\n",
       "      <td>99.692707</td>\n",
       "      <td>0.183516</td>\n",
       "    </tr>\n",
       "    <tr>\n",
       "      <th>4241</th>\n",
       "      <td>283.849464</td>\n",
       "      <td>283.744067</td>\n",
       "      <td>0.105397</td>\n",
       "    </tr>\n",
       "    <tr>\n",
       "      <th>3330</th>\n",
       "      <td>355.200000</td>\n",
       "      <td>355.288389</td>\n",
       "      <td>0.088389</td>\n",
       "    </tr>\n",
       "    <tr>\n",
       "      <th>580</th>\n",
       "      <td>238.005074</td>\n",
       "      <td>237.931855</td>\n",
       "      <td>0.073219</td>\n",
       "    </tr>\n",
       "    <tr>\n",
       "      <th>6881</th>\n",
       "      <td>555.457674</td>\n",
       "      <td>555.444881</td>\n",
       "      <td>0.012793</td>\n",
       "    </tr>\n",
       "  </tbody>\n",
       "</table>\n",
       "<p>2561 rows × 3 columns</p>\n",
       "</div>"
      ],
      "text/plain": [
       "             true        pred       resid\n",
       "2035  1101.054320  459.675191  641.379129\n",
       "2008  1138.255325  567.576555  570.678770\n",
       "6813  1106.913309  582.401509  524.511800\n",
       "5365  1107.145019  601.173238  505.971781\n",
       "7102  1123.212014  623.197801  500.014213\n",
       "...           ...         ...         ...\n",
       "8813    99.509191   99.692707    0.183516\n",
       "4241   283.849464  283.744067    0.105397\n",
       "3330   355.200000  355.288389    0.088389\n",
       "580    238.005074  237.931855    0.073219\n",
       "6881   555.457674  555.444881    0.012793\n",
       "\n",
       "[2561 rows x 3 columns]"
      ]
     },
     "metadata": {},
     "output_type": "display_data"
    },
    {
     "data": {
      "image/png": "[encoded data removed]",
      "text/plain": [
       "<Figure size 432x288 with 1 Axes>"
      ]
     },
     "metadata": {
      "needs_background": "light"
     },
     "output_type": "display_data"
    }
   ],
   "source": [
    "results_2 = pd.DataFrame()\n",
    "results_2['true'] = inv_boxcox(y_test_2, _ci['total_claim_amount'])\n",
    "results_2['pred'] = predictions_2\n",
    "results_2['resid'] = results_2.apply(lambda x: abs(x['true'] - x['pred']), axis=1)\n",
    "results_2=results_2.sort_values('resid', ascending=False)\n",
    "\n",
    "display(results_2)\n",
    "sns.boxplot(x=results_2['resid'])\n",
    "plt.show()"
   ]
  },
  {
   "cell_type": "code",
   "execution_count": null,
   "id": "30758fd7",
   "metadata": {},
   "outputs": [],
   "source": []
  }
 ],
 "metadata": {
  "kernelspec": {
   "display_name": "Python 3",
   "language": "python",
   "name": "python3"
  },
  "language_info": {
   "codemirror_mode": {
    "name": "ipython",
    "version": 3
   },
   "file_extension": ".py",
   "mimetype": "text/x-python",
   "name": "python",
   "nbconvert_exporter": "python",
   "pygments_lexer": "ipython3",
   "version": "3.8.8"
  }
 },
 "nbformat": 4,
 "nbformat_minor": 5
}
